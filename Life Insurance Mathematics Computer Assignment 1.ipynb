{
 "cells": [
  {
   "cell_type": "code",
   "execution_count": 10,
   "id": "430dc2d0-6e8e-47d0-8cdf-8d98da6508f5",
   "metadata": {},
   "outputs": [],
   "source": [
    "import numpy as np\n",
    "import pandas as pd\n",
    "from tabulate import tabulate\n",
    "# Loan with varying interest rates and 5% decreasing payments\n",
    "# Timeline: t = 0,...,27\n"
   ]
  },
  {
   "cell_type": "code",
   "execution_count": 2,
   "id": "5bc2e5bb-a4f8-4ce2-9757-5d47e2fba6e8",
   "metadata": {},
   "outputs": [],
   "source": [
    "# Interest rates by year:\n",
    "# - 2.5% for the first 5 years\n",
    "# - 3.5% for the next 5 years\n",
    "# - 4% for the last 17 years\n",
    "i = np.array([0.025]*5 + [0.035]*5 + [0.04]*17)  # length = 27\n",
    "\n",
    "# Discount factors v_t\n",
    "# v_0 = 1\n",
    "# v_t = product over j=1..t of 1/(1+i_j)\n",
    "discount_factor = np.concatenate(([1.0], np.cumprod(1/(1+i))))\n"
   ]
  },
  {
   "cell_type": "code",
   "execution_count": 3,
   "id": "825a4e19-74ff-49e7-a1f3-7c052e652877",
   "metadata": {},
   "outputs": [],
   "source": [
    "# Cash inflows:\n",
    "# - 30,000 EUR at t=0\n",
    "# - 10,000 EUR at t=1\n",
    "# - 15,000 EUR at t=2\n",
    "PV = 30000 * discount_factor[0] + 10000 * discount_factor[1] + 15000 * discount_factor[2]\n"
   ]
  },
  {
   "cell_type": "code",
   "execution_count": 4,
   "id": "619bbff2-afeb-4b17-9d47-2eb7bffc1e2c",
   "metadata": {},
   "outputs": [],
   "source": [
    "# 25 yearly payments from t=3 to t=27\n",
    "# Each year payment decreases by 5%\n",
    "\n",
    "pay_ratio = (0.95) ** np.arange(25)   # A, A*0.95, A*0.95^2, ...\n",
    "\n",
    "# S = weighted sum of discount factors\n",
    "S = np.sum(pay_ratio * discount_factor[3:28])\n",
    "\n",
    "# Solve for first payment A\n",
    "A = PV / S\n"
   ]
  },
  {
   "cell_type": "code",
   "execution_count": 5,
   "id": "10a7fdb0-5ac6-44d1-8d11-edd56ac79f9a",
   "metadata": {},
   "outputs": [],
   "source": [
    "years = np.arange(3, 28)        # payment years\n",
    "K = -A * pay_ratio              # negative = outflow for Cynthia\n",
    "\n",
    "payments_df = pd.DataFrame({\n",
    "    \"Year\": years,\n",
    "    \"Payment\": K,\n",
    "    \"DiscountFactor\": discount_factor[3:28],\n",
    "    \"PV Contribution\": (-K) * discount_factor[3:28]\n",
    "})\n"
   ]
  },
  {
   "cell_type": "code",
   "execution_count": 6,
   "id": "338058b0-fc0a-4c87-bb2a-08e7f0b252a0",
   "metadata": {},
   "outputs": [],
   "source": [
    "pv_payments = np.sum((-K) * discount_factor[3:28])\n",
    "\n",
    "check = pd.Series({\n",
    "    \"PV_disbursements\": PV,\n",
    "    \"PV_payments\": pv_payments,\n",
    "    \"Difference\": pv_payments - PV\n",
    "})\n"
   ]
  },
  {
   "cell_type": "code",
   "execution_count": 12,
   "id": "b0a08657-ee7c-4e27-be3f-b778b006457f",
   "metadata": {},
   "outputs": [
    {
     "name": "stdout",
     "output_type": "stream",
     "text": [
      "First payment A at t=3: 5,402.26 EUR\n",
      "Total PV of disbursements: 54,033.31 EUR\n",
      "Total PV of payments:      54,033.31 EUR\n",
      "Difference:                -0.000000 EUR\n",
      "\n",
      "Payment Schedule:\n",
      "  Year    Payment    DiscountFactor    PV Contribution\n",
      "------  ---------  ----------------  -----------------\n",
      "     3   -5402.26              0.93            5016.54\n",
      "     4   -5132.15              0.91            4649.47\n",
      "     5   -4875.54              0.88            4309.27\n",
      "     6   -4631.76              0.85            3955.37\n",
      "     7   -4400.18              0.83            3630.53\n",
      "     8   -4180.17              0.8             3332.37\n",
      "     9   -3971.16              0.77            3058.7\n",
      "    10   -3772.6               0.74            2807.5\n",
      "    11   -3583.97              0.72            2564.54\n",
      "    12   -3404.77              0.69            2342.61\n",
      "    13   -3234.53              0.66            2139.89\n",
      "    14   -3072.81              0.64            1954.7\n",
      "    15   -2919.17              0.61            1785.55\n",
      "    16   -2773.21              0.59            1631.03\n",
      "    17   -2634.55              0.57            1489.88\n",
      "    18   -2502.82              0.54            1360.95\n",
      "    19   -2377.68              0.52            1243.17\n",
      "    20   -2258.8               0.5             1135.59\n",
      "    21   -2145.86              0.48            1037.32\n",
      "    22   -2038.56              0.46             947.55\n",
      "    23   -1936.63              0.45             865.55\n",
      "    24   -1839.8               0.43             790.65\n",
      "    25   -1747.81              0.41             722.23\n",
      "    26   -1660.42              0.4              659.73\n",
      "    27   -1577.4               0.38             602.63\n"
     ]
    }
   ],
   "source": [
    "print(f\"First payment A at t=3: {A:,.2f} EUR\")\n",
    "print(f\"Total PV of disbursements: {PV:,.2f} EUR\")\n",
    "print(f\"Total PV of payments:      {pv_payments:,.2f} EUR\")\n",
    "print(f\"Difference:                {pv_payments - PV:.6f} EUR\")\n",
    "\n",
    "print(\"\\nPayment Schedule:\")\n",
    "print(tabulate(payments_df_rounded, headers=\"keys\", tablefmt=\"compact\", showindex=False))\n",
    "\n"
   ]
  },
  {
   "cell_type": "code",
   "execution_count": null,
   "id": "618974a4-46c4-4818-931d-33135b7606b3",
   "metadata": {},
   "outputs": [],
   "source": []
  }
 ],
 "metadata": {
  "kernelspec": {
   "display_name": "Python 3 (ipykernel)",
   "language": "python",
   "name": "python3"
  },
  "language_info": {
   "codemirror_mode": {
    "name": "ipython",
    "version": 3
   },
   "file_extension": ".py",
   "mimetype": "text/x-python",
   "name": "python",
   "nbconvert_exporter": "python",
   "pygments_lexer": "ipython3",
   "version": "3.10.9"
  }
 },
 "nbformat": 4,
 "nbformat_minor": 5
}
